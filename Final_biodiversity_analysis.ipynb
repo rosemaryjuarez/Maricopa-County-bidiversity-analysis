{
 "cells": [
  {
   "cell_type": "markdown",
   "id": "97e64878-6ea5-41e4-a8e5-161c3ed6c2c9",
   "metadata": {},
   "source": [
    "# Biodiversity Intactness Index change in Phoenix subdivision\n",
    "\n",
    "### background\n",
    "In 2021, Maricopa County, which encompasses the Phoenix metropolitan area, was the US county that added the most developed land since 2001 [1]. Urban sprawl creates pressure on biodiversity and natural areas. In this task you will explore a dataset showing values for a biodiversity intactness index (BII) [2, 3] to find changes in this BII around the Phoenix area from 2017 to 2020. \n"
   ]
  },
  {
   "cell_type": "markdown",
   "id": "944ae37a-e41c-4202-bcdd-b44758542367",
   "metadata": {},
   "source": [
    "Instructions\n",
    "\n",
    "Data access:\n",
    "BII data: This dataset is part of the MPC STAC catalog. You will need to access the ‘io-biodiversity’ collection and look for the 2017 and 2020 rasters covering Phoenix subdivision. You can use the following coordinates for a bounding box: \n",
    "[-112.826843, 32.974108, -111.184387, 33.863574]\n",
    "Phoenix subdivision: You will find the Phoenix subdivision polygon in the Census County Subdivision shapefiles for Arizona: https://www.census.gov/cgi-bin/geo/shapefiles/index.php?year=2022&layergroup=County+Subdivisions\n",
    "\n",
    "Create a map showing the Phoenix subdivision within an appropriate geographical context. You may use any vector datasets to create your map. (You can also check out the contextily package.)\n",
    "\n",
    "Calculate the percentage of area of the Phoenix subdivision with a BII of at least 0.75 in 2017. Obtain the same calculation for 2020.\n",
    "HINTS (useful or not depending on your workflow): \n",
    "Let x be an xarray.DataArray. We can select all the values greater than n by simply doing x>n. This will return an xarray.DataArray with boolean values. You can then transform this into an xarray.DataArray with 0s and 1s (instead of True/False) by casting it as type ‘int’. \n",
    "To calculate the percentage area: (pixels in class)/(total pixels) * 100. \n",
    "\n",
    "Create a visualization showing the area with BII>=0.75 in 2017 that was lost by 2020. Here’s an example:\n"
   ]
  }
 ],
 "metadata": {
  "kernelspec": {
   "display_name": "Python 3 (ipykernel)",
   "language": "python",
   "name": "python3"
  },
  "language_info": {
   "codemirror_mode": {
    "name": "ipython",
    "version": 3
   },
   "file_extension": ".py",
   "mimetype": "text/x-python",
   "name": "python",
   "nbconvert_exporter": "python",
   "pygments_lexer": "ipython3",
   "version": "3.11.4"
  }
 },
 "nbformat": 4,
 "nbformat_minor": 5
}
